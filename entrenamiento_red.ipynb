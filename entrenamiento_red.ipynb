{
 "cells": [
  {
   "cell_type": "markdown",
   "id": "a1fe30d6",
   "metadata": {},
   "source": [
    "# Importaciones"
   ]
  },
  {
   "cell_type": "code",
   "execution_count": 1,
   "id": "267396a3",
   "metadata": {},
   "outputs": [],
   "source": [
    "import tensorflow as tf\n",
    "import pandas as pd\n",
    "import numpy as np\n",
    "from sklearn.model_selection import train_test_split\n",
    "from sklearn.preprocessing import StandardScaler\n",
    "import matplotlib.pyplot as plt\n",
    "from sklearn.metrics import r2_score"
   ]
  },
  {
   "cell_type": "markdown",
   "id": "760914fc",
   "metadata": {},
   "source": [
    "# Carga de Datos"
   ]
  },
  {
   "cell_type": "code",
   "execution_count": 9,
   "id": "3f358ceb",
   "metadata": {},
   "outputs": [
    {
     "data": {
      "text/html": [
       "<div>\n",
       "<style scoped>\n",
       "    .dataframe tbody tr th:only-of-type {\n",
       "        vertical-align: middle;\n",
       "    }\n",
       "\n",
       "    .dataframe tbody tr th {\n",
       "        vertical-align: top;\n",
       "    }\n",
       "\n",
       "    .dataframe thead th {\n",
       "        text-align: right;\n",
       "    }\n",
       "</style>\n",
       "<table border=\"1\" class=\"dataframe\">\n",
       "  <thead>\n",
       "    <tr style=\"text-align: right;\">\n",
       "      <th></th>\n",
       "      <th>Acciones</th>\n",
       "      <th>Siguiente Estados</th>\n",
       "      <th>Estados</th>\n",
       "      <th>Recompensa</th>\n",
       "    </tr>\n",
       "  </thead>\n",
       "  <tbody>\n",
       "    <tr>\n",
       "      <th>0</th>\n",
       "      <td>1</td>\n",
       "      <td>1</td>\n",
       "      <td>[0.0151607515, 1.4318802357, 0.762010276300000...</td>\n",
       "      <td>0.345692</td>\n",
       "    </tr>\n",
       "    <tr>\n",
       "      <th>1</th>\n",
       "      <td>3</td>\n",
       "      <td>2</td>\n",
       "      <td>[0.0228032116, 1.4414606094, 0.7737362981, 0.4...</td>\n",
       "      <td>-1.604062</td>\n",
       "    </tr>\n",
       "    <tr>\n",
       "      <th>2</th>\n",
       "      <td>1</td>\n",
       "      <td>3</td>\n",
       "      <td>[0.0303514488, 1.4504432677999999, 0.761899411...</td>\n",
       "      <td>0.657523</td>\n",
       "    </tr>\n",
       "    <tr>\n",
       "      <th>3</th>\n",
       "      <td>1</td>\n",
       "      <td>4</td>\n",
       "      <td>[0.0378080383, 1.4588290453, 0.7503976226, 0.3...</td>\n",
       "      <td>0.873806</td>\n",
       "    </tr>\n",
       "    <tr>\n",
       "      <th>4</th>\n",
       "      <td>3</td>\n",
       "      <td>5</td>\n",
       "      <td>[0.0453316681, 1.4666104317, 0.758811116200000...</td>\n",
       "      <td>-1.069631</td>\n",
       "    </tr>\n",
       "    <tr>\n",
       "      <th>...</th>\n",
       "      <td>...</td>\n",
       "      <td>...</td>\n",
       "      <td>...</td>\n",
       "      <td>...</td>\n",
       "    </tr>\n",
       "    <tr>\n",
       "      <th>45600</th>\n",
       "      <td>0</td>\n",
       "      <td>112</td>\n",
       "      <td>[0.0700754151, 0.09790128470000001, -0.0571497...</td>\n",
       "      <td>-0.264992</td>\n",
       "    </tr>\n",
       "    <tr>\n",
       "      <th>45601</th>\n",
       "      <td>0</td>\n",
       "      <td>113</td>\n",
       "      <td>[0.06954813, 0.0639473051, -0.0571488142, -1.5...</td>\n",
       "      <td>-0.537628</td>\n",
       "    </tr>\n",
       "    <tr>\n",
       "      <th>45602</th>\n",
       "      <td>1</td>\n",
       "      <td>114</td>\n",
       "      <td>[0.0689314827, 0.029331289200000003, -0.068508...</td>\n",
       "      <td>8.153831</td>\n",
       "    </tr>\n",
       "    <tr>\n",
       "      <th>45603</th>\n",
       "      <td>3</td>\n",
       "      <td>115</td>\n",
       "      <td>[0.068693921, -0.0042107012, -0.0100885388, -1...</td>\n",
       "      <td>7.001870</td>\n",
       "    </tr>\n",
       "    <tr>\n",
       "      <th>45604</th>\n",
       "      <td>1</td>\n",
       "      <td>116</td>\n",
       "      <td>[0.06715259700000001, -0.027702381800000002, 0...</td>\n",
       "      <td>-100.000000</td>\n",
       "    </tr>\n",
       "  </tbody>\n",
       "</table>\n",
       "<p>45605 rows × 4 columns</p>\n",
       "</div>"
      ],
      "text/plain": [
       "       Acciones  Siguiente Estados  \\\n",
       "0             1                  1   \n",
       "1             3                  2   \n",
       "2             1                  3   \n",
       "3             1                  4   \n",
       "4             3                  5   \n",
       "...         ...                ...   \n",
       "45600         0                112   \n",
       "45601         0                113   \n",
       "45602         1                114   \n",
       "45603         3                115   \n",
       "45604         1                116   \n",
       "\n",
       "                                                 Estados  Recompensa  \n",
       "0      [0.0151607515, 1.4318802357, 0.762010276300000...    0.345692  \n",
       "1      [0.0228032116, 1.4414606094, 0.7737362981, 0.4...   -1.604062  \n",
       "2      [0.0303514488, 1.4504432677999999, 0.761899411...    0.657523  \n",
       "3      [0.0378080383, 1.4588290453, 0.7503976226, 0.3...    0.873806  \n",
       "4      [0.0453316681, 1.4666104317, 0.758811116200000...   -1.069631  \n",
       "...                                                  ...         ...  \n",
       "45600  [0.0700754151, 0.09790128470000001, -0.0571497...   -0.264992  \n",
       "45601  [0.06954813, 0.0639473051, -0.0571488142, -1.5...   -0.537628  \n",
       "45602  [0.0689314827, 0.029331289200000003, -0.068508...    8.153831  \n",
       "45603  [0.068693921, -0.0042107012, -0.0100885388, -1...    7.001870  \n",
       "45604  [0.06715259700000001, -0.027702381800000002, 0... -100.000000  \n",
       "\n",
       "[45605 rows x 4 columns]"
      ]
     },
     "execution_count": 9,
     "metadata": {},
     "output_type": "execute_result"
    }
   ],
   "source": [
    "rl = pd.read_json(\"aprendizaje_refuerzo.json\",lines = True)\n",
    "rl"
   ]
  },
  {
   "cell_type": "markdown",
   "id": "b568157b",
   "metadata": {},
   "source": [
    "Dado que la columna 'Estados' corresponde a una lista de valores, se divide de tal manera que cada una sea una columna única que permita el entrenamiento del modelo"
   ]
  },
  {
   "cell_type": "code",
   "execution_count": 10,
   "id": "02e46fb9",
   "metadata": {},
   "outputs": [
    {
     "data": {
      "text/html": [
       "<div>\n",
       "<style scoped>\n",
       "    .dataframe tbody tr th:only-of-type {\n",
       "        vertical-align: middle;\n",
       "    }\n",
       "\n",
       "    .dataframe tbody tr th {\n",
       "        vertical-align: top;\n",
       "    }\n",
       "\n",
       "    .dataframe thead th {\n",
       "        text-align: right;\n",
       "    }\n",
       "</style>\n",
       "<table border=\"1\" class=\"dataframe\">\n",
       "  <thead>\n",
       "    <tr style=\"text-align: right;\">\n",
       "      <th></th>\n",
       "      <th>Acciones</th>\n",
       "      <th>Siguiente Estados</th>\n",
       "      <th>Recompensa</th>\n",
       "      <th>estado_0</th>\n",
       "      <th>estado_1</th>\n",
       "      <th>estado_2</th>\n",
       "      <th>estado_3</th>\n",
       "      <th>estado_4</th>\n",
       "      <th>estado_5</th>\n",
       "      <th>estado_6</th>\n",
       "      <th>estado_7</th>\n",
       "    </tr>\n",
       "  </thead>\n",
       "  <tbody>\n",
       "    <tr>\n",
       "      <th>0</th>\n",
       "      <td>1</td>\n",
       "      <td>1</td>\n",
       "      <td>0.345692</td>\n",
       "      <td>0.015161</td>\n",
       "      <td>1.431880</td>\n",
       "      <td>0.762010</td>\n",
       "      <td>0.452856</td>\n",
       "      <td>-0.015852</td>\n",
       "      <td>-0.140784</td>\n",
       "      <td>0.0</td>\n",
       "      <td>0.0</td>\n",
       "    </tr>\n",
       "    <tr>\n",
       "      <th>1</th>\n",
       "      <td>3</td>\n",
       "      <td>2</td>\n",
       "      <td>-1.604062</td>\n",
       "      <td>0.022803</td>\n",
       "      <td>1.441461</td>\n",
       "      <td>0.773736</td>\n",
       "      <td>0.425661</td>\n",
       "      <td>-0.025237</td>\n",
       "      <td>-0.187717</td>\n",
       "      <td>0.0</td>\n",
       "      <td>0.0</td>\n",
       "    </tr>\n",
       "    <tr>\n",
       "      <th>2</th>\n",
       "      <td>1</td>\n",
       "      <td>3</td>\n",
       "      <td>0.657523</td>\n",
       "      <td>0.030351</td>\n",
       "      <td>1.450443</td>\n",
       "      <td>0.761899</td>\n",
       "      <td>0.399093</td>\n",
       "      <td>-0.032240</td>\n",
       "      <td>-0.140065</td>\n",
       "      <td>0.0</td>\n",
       "      <td>0.0</td>\n",
       "    </tr>\n",
       "    <tr>\n",
       "      <th>3</th>\n",
       "      <td>1</td>\n",
       "      <td>4</td>\n",
       "      <td>0.873806</td>\n",
       "      <td>0.037808</td>\n",
       "      <td>1.458829</td>\n",
       "      <td>0.750398</td>\n",
       "      <td>0.372594</td>\n",
       "      <td>-0.036932</td>\n",
       "      <td>-0.093848</td>\n",
       "      <td>0.0</td>\n",
       "      <td>0.0</td>\n",
       "    </tr>\n",
       "    <tr>\n",
       "      <th>4</th>\n",
       "      <td>3</td>\n",
       "      <td>5</td>\n",
       "      <td>-1.069631</td>\n",
       "      <td>0.045332</td>\n",
       "      <td>1.466610</td>\n",
       "      <td>0.758811</td>\n",
       "      <td>0.345666</td>\n",
       "      <td>-0.043310</td>\n",
       "      <td>-0.127584</td>\n",
       "      <td>0.0</td>\n",
       "      <td>0.0</td>\n",
       "    </tr>\n",
       "    <tr>\n",
       "      <th>...</th>\n",
       "      <td>...</td>\n",
       "      <td>...</td>\n",
       "      <td>...</td>\n",
       "      <td>...</td>\n",
       "      <td>...</td>\n",
       "      <td>...</td>\n",
       "      <td>...</td>\n",
       "      <td>...</td>\n",
       "      <td>...</td>\n",
       "      <td>...</td>\n",
       "      <td>...</td>\n",
       "    </tr>\n",
       "    <tr>\n",
       "      <th>45600</th>\n",
       "      <td>0</td>\n",
       "      <td>112</td>\n",
       "      <td>-0.264992</td>\n",
       "      <td>0.070075</td>\n",
       "      <td>0.097901</td>\n",
       "      <td>-0.057150</td>\n",
       "      <td>-1.483483</td>\n",
       "      <td>0.352335</td>\n",
       "      <td>0.092901</td>\n",
       "      <td>0.0</td>\n",
       "      <td>0.0</td>\n",
       "    </tr>\n",
       "    <tr>\n",
       "      <th>45601</th>\n",
       "      <td>0</td>\n",
       "      <td>113</td>\n",
       "      <td>-0.537628</td>\n",
       "      <td>0.069548</td>\n",
       "      <td>0.063947</td>\n",
       "      <td>-0.057149</td>\n",
       "      <td>-1.510151</td>\n",
       "      <td>0.356980</td>\n",
       "      <td>0.092900</td>\n",
       "      <td>0.0</td>\n",
       "      <td>0.0</td>\n",
       "    </tr>\n",
       "    <tr>\n",
       "      <th>45602</th>\n",
       "      <td>1</td>\n",
       "      <td>114</td>\n",
       "      <td>8.153831</td>\n",
       "      <td>0.068931</td>\n",
       "      <td>0.029331</td>\n",
       "      <td>-0.068508</td>\n",
       "      <td>-1.540212</td>\n",
       "      <td>0.364205</td>\n",
       "      <td>0.144499</td>\n",
       "      <td>0.0</td>\n",
       "      <td>1.0</td>\n",
       "    </tr>\n",
       "    <tr>\n",
       "      <th>45603</th>\n",
       "      <td>3</td>\n",
       "      <td>115</td>\n",
       "      <td>7.001870</td>\n",
       "      <td>0.068694</td>\n",
       "      <td>-0.004211</td>\n",
       "      <td>-0.010089</td>\n",
       "      <td>-1.487406</td>\n",
       "      <td>0.354270</td>\n",
       "      <td>-0.193075</td>\n",
       "      <td>0.0</td>\n",
       "      <td>1.0</td>\n",
       "    </tr>\n",
       "    <tr>\n",
       "      <th>45604</th>\n",
       "      <td>1</td>\n",
       "      <td>116</td>\n",
       "      <td>-100.000000</td>\n",
       "      <td>0.067153</td>\n",
       "      <td>-0.027702</td>\n",
       "      <td>0.070282</td>\n",
       "      <td>-0.710191</td>\n",
       "      <td>0.175958</td>\n",
       "      <td>-5.397840</td>\n",
       "      <td>0.0</td>\n",
       "      <td>1.0</td>\n",
       "    </tr>\n",
       "  </tbody>\n",
       "</table>\n",
       "<p>45605 rows × 11 columns</p>\n",
       "</div>"
      ],
      "text/plain": [
       "       Acciones  Siguiente Estados  Recompensa  estado_0  estado_1  estado_2  \\\n",
       "0             1                  1    0.345692  0.015161  1.431880  0.762010   \n",
       "1             3                  2   -1.604062  0.022803  1.441461  0.773736   \n",
       "2             1                  3    0.657523  0.030351  1.450443  0.761899   \n",
       "3             1                  4    0.873806  0.037808  1.458829  0.750398   \n",
       "4             3                  5   -1.069631  0.045332  1.466610  0.758811   \n",
       "...         ...                ...         ...       ...       ...       ...   \n",
       "45600         0                112   -0.264992  0.070075  0.097901 -0.057150   \n",
       "45601         0                113   -0.537628  0.069548  0.063947 -0.057149   \n",
       "45602         1                114    8.153831  0.068931  0.029331 -0.068508   \n",
       "45603         3                115    7.001870  0.068694 -0.004211 -0.010089   \n",
       "45604         1                116 -100.000000  0.067153 -0.027702  0.070282   \n",
       "\n",
       "       estado_3  estado_4  estado_5  estado_6  estado_7  \n",
       "0      0.452856 -0.015852 -0.140784       0.0       0.0  \n",
       "1      0.425661 -0.025237 -0.187717       0.0       0.0  \n",
       "2      0.399093 -0.032240 -0.140065       0.0       0.0  \n",
       "3      0.372594 -0.036932 -0.093848       0.0       0.0  \n",
       "4      0.345666 -0.043310 -0.127584       0.0       0.0  \n",
       "...         ...       ...       ...       ...       ...  \n",
       "45600 -1.483483  0.352335  0.092901       0.0       0.0  \n",
       "45601 -1.510151  0.356980  0.092900       0.0       0.0  \n",
       "45602 -1.540212  0.364205  0.144499       0.0       1.0  \n",
       "45603 -1.487406  0.354270 -0.193075       0.0       1.0  \n",
       "45604 -0.710191  0.175958 -5.397840       0.0       1.0  \n",
       "\n",
       "[45605 rows x 11 columns]"
      ]
     },
     "execution_count": 10,
     "metadata": {},
     "output_type": "execute_result"
    }
   ],
   "source": [
    "estados_expandidos = pd.DataFrame(rl['Estados'].tolist())\n",
    "estados_expandidos.columns = [f'estado_{i}' for i in range(estados_expandidos.shape[1])]\n",
    "rl = rl.drop(columns='Estados').join(estados_expandidos)\n",
    "rl"
   ]
  },
  {
   "cell_type": "markdown",
   "id": "a412e175",
   "metadata": {},
   "source": [
    "# Entrenamiento de la Red Neuronal"
   ]
  },
  {
   "cell_type": "markdown",
   "id": "de98a98e",
   "metadata": {},
   "source": [
    "En este caso, se quiere predecir la recompensa a partir del resto de columnas. Se realiza la partición de train - test"
   ]
  },
  {
   "cell_type": "code",
   "execution_count": 11,
   "id": "18d0cd23",
   "metadata": {},
   "outputs": [],
   "source": [
    "X = rl.drop(columns='Recompensa')\n",
    "y = rl['Recompensa']\n",
    "X_train, X_test, y_train, y_test = train_test_split(\n",
    "    X, y, test_size=0.2, random_state=40\n",
    ")"
   ]
  },
  {
   "cell_type": "markdown",
   "id": "175c85c2",
   "metadata": {},
   "source": [
    "Dado que las variables predictoras tienen escalas similares, se decide no estandarizar; sin embargo, en caso de que más adelante se considere necesario aplicar este procedimiento para mayor estabilidad del modelo, se realizará."
   ]
  },
  {
   "cell_type": "markdown",
   "id": "637e5052",
   "metadata": {},
   "source": [
    "Se define la arquitectura de la Red Neuronal"
   ]
  },
  {
   "cell_type": "code",
   "execution_count": 16,
   "id": "bce1abab",
   "metadata": {},
   "outputs": [
    {
     "name": "stderr",
     "output_type": "stream",
     "text": [
      "c:\\Users\\samue\\miniconda3\\envs\\Redes_Neuronales\\lib\\site-packages\\keras\\src\\layers\\core\\dense.py:93: UserWarning: Do not pass an `input_shape`/`input_dim` argument to a layer. When using Sequential models, prefer using an `Input(shape)` object as the first layer in the model instead.\n",
      "  super().__init__(activity_regularizer=activity_regularizer, **kwargs)\n"
     ]
    }
   ],
   "source": [
    "modelo = tf.keras.models.Sequential([\n",
    "    tf.keras.layers.Dense(20, activation = \"relu\", input_shape = (X_train.shape[1],), name = \"Input\"),\n",
    "    tf.keras.layers.Dense(10, activation=\"relu\", name = \"Oculta_1\"),\n",
    "    tf.keras.layers.Dense(1, name = \"Output\")\n",
    "])\n",
    "\n",
    "modelo.compile(\n",
    "    optimizer='adam',\n",
    "    loss='mse',  \n",
    "    metrics=['mse','mae']  \n",
    ")"
   ]
  },
  {
   "cell_type": "code",
   "execution_count": 17,
   "id": "6ad76baf",
   "metadata": {},
   "outputs": [
    {
     "data": {
      "text/html": [
       "<pre style=\"white-space:pre;overflow-x:auto;line-height:normal;font-family:Menlo,'DejaVu Sans Mono',consolas,'Courier New',monospace\"><span style=\"font-weight: bold\">Model: \"sequential_1\"</span>\n",
       "</pre>\n"
      ],
      "text/plain": [
       "\u001b[1mModel: \"sequential_1\"\u001b[0m\n"
      ]
     },
     "metadata": {},
     "output_type": "display_data"
    },
    {
     "data": {
      "text/html": [
       "<pre style=\"white-space:pre;overflow-x:auto;line-height:normal;font-family:Menlo,'DejaVu Sans Mono',consolas,'Courier New',monospace\">┏━━━━━━━━━━━━━━━━━━━━━━━━━━━━━━━━━┳━━━━━━━━━━━━━━━━━━━━━━━━┳━━━━━━━━━━━━━━━┓\n",
       "┃<span style=\"font-weight: bold\"> Layer (type)                    </span>┃<span style=\"font-weight: bold\"> Output Shape           </span>┃<span style=\"font-weight: bold\">       Param # </span>┃\n",
       "┡━━━━━━━━━━━━━━━━━━━━━━━━━━━━━━━━━╇━━━━━━━━━━━━━━━━━━━━━━━━╇━━━━━━━━━━━━━━━┩\n",
       "│ Input (<span style=\"color: #0087ff; text-decoration-color: #0087ff\">Dense</span>)                   │ (<span style=\"color: #00d7ff; text-decoration-color: #00d7ff\">None</span>, <span style=\"color: #00af00; text-decoration-color: #00af00\">20</span>)             │           <span style=\"color: #00af00; text-decoration-color: #00af00\">220</span> │\n",
       "├─────────────────────────────────┼────────────────────────┼───────────────┤\n",
       "│ Oculta_1 (<span style=\"color: #0087ff; text-decoration-color: #0087ff\">Dense</span>)                │ (<span style=\"color: #00d7ff; text-decoration-color: #00d7ff\">None</span>, <span style=\"color: #00af00; text-decoration-color: #00af00\">10</span>)             │           <span style=\"color: #00af00; text-decoration-color: #00af00\">210</span> │\n",
       "├─────────────────────────────────┼────────────────────────┼───────────────┤\n",
       "│ Output (<span style=\"color: #0087ff; text-decoration-color: #0087ff\">Dense</span>)                  │ (<span style=\"color: #00d7ff; text-decoration-color: #00d7ff\">None</span>, <span style=\"color: #00af00; text-decoration-color: #00af00\">1</span>)              │            <span style=\"color: #00af00; text-decoration-color: #00af00\">11</span> │\n",
       "└─────────────────────────────────┴────────────────────────┴───────────────┘\n",
       "</pre>\n"
      ],
      "text/plain": [
       "┏━━━━━━━━━━━━━━━━━━━━━━━━━━━━━━━━━┳━━━━━━━━━━━━━━━━━━━━━━━━┳━━━━━━━━━━━━━━━┓\n",
       "┃\u001b[1m \u001b[0m\u001b[1mLayer (type)                   \u001b[0m\u001b[1m \u001b[0m┃\u001b[1m \u001b[0m\u001b[1mOutput Shape          \u001b[0m\u001b[1m \u001b[0m┃\u001b[1m \u001b[0m\u001b[1m      Param #\u001b[0m\u001b[1m \u001b[0m┃\n",
       "┡━━━━━━━━━━━━━━━━━━━━━━━━━━━━━━━━━╇━━━━━━━━━━━━━━━━━━━━━━━━╇━━━━━━━━━━━━━━━┩\n",
       "│ Input (\u001b[38;5;33mDense\u001b[0m)                   │ (\u001b[38;5;45mNone\u001b[0m, \u001b[38;5;34m20\u001b[0m)             │           \u001b[38;5;34m220\u001b[0m │\n",
       "├─────────────────────────────────┼────────────────────────┼───────────────┤\n",
       "│ Oculta_1 (\u001b[38;5;33mDense\u001b[0m)                │ (\u001b[38;5;45mNone\u001b[0m, \u001b[38;5;34m10\u001b[0m)             │           \u001b[38;5;34m210\u001b[0m │\n",
       "├─────────────────────────────────┼────────────────────────┼───────────────┤\n",
       "│ Output (\u001b[38;5;33mDense\u001b[0m)                  │ (\u001b[38;5;45mNone\u001b[0m, \u001b[38;5;34m1\u001b[0m)              │            \u001b[38;5;34m11\u001b[0m │\n",
       "└─────────────────────────────────┴────────────────────────┴───────────────┘\n"
      ]
     },
     "metadata": {},
     "output_type": "display_data"
    },
    {
     "data": {
      "text/html": [
       "<pre style=\"white-space:pre;overflow-x:auto;line-height:normal;font-family:Menlo,'DejaVu Sans Mono',consolas,'Courier New',monospace\"><span style=\"font-weight: bold\"> Total params: </span><span style=\"color: #00af00; text-decoration-color: #00af00\">441</span> (1.72 KB)\n",
       "</pre>\n"
      ],
      "text/plain": [
       "\u001b[1m Total params: \u001b[0m\u001b[38;5;34m441\u001b[0m (1.72 KB)\n"
      ]
     },
     "metadata": {},
     "output_type": "display_data"
    },
    {
     "data": {
      "text/html": [
       "<pre style=\"white-space:pre;overflow-x:auto;line-height:normal;font-family:Menlo,'DejaVu Sans Mono',consolas,'Courier New',monospace\"><span style=\"font-weight: bold\"> Trainable params: </span><span style=\"color: #00af00; text-decoration-color: #00af00\">441</span> (1.72 KB)\n",
       "</pre>\n"
      ],
      "text/plain": [
       "\u001b[1m Trainable params: \u001b[0m\u001b[38;5;34m441\u001b[0m (1.72 KB)\n"
      ]
     },
     "metadata": {},
     "output_type": "display_data"
    },
    {
     "data": {
      "text/html": [
       "<pre style=\"white-space:pre;overflow-x:auto;line-height:normal;font-family:Menlo,'DejaVu Sans Mono',consolas,'Courier New',monospace\"><span style=\"font-weight: bold\"> Non-trainable params: </span><span style=\"color: #00af00; text-decoration-color: #00af00\">0</span> (0.00 B)\n",
       "</pre>\n"
      ],
      "text/plain": [
       "\u001b[1m Non-trainable params: \u001b[0m\u001b[38;5;34m0\u001b[0m (0.00 B)\n"
      ]
     },
     "metadata": {},
     "output_type": "display_data"
    }
   ],
   "source": [
    "modelo.summary()"
   ]
  },
  {
   "cell_type": "markdown",
   "id": "c855962d",
   "metadata": {},
   "source": [
    "Se entrena la red neuronal"
   ]
  },
  {
   "cell_type": "code",
   "execution_count": 18,
   "id": "9904463a",
   "metadata": {},
   "outputs": [
    {
     "name": "stdout",
     "output_type": "stream",
     "text": [
      "Epoch 1/50\n",
      "\u001b[1m1141/1141\u001b[0m \u001b[32m━━━━━━━━━━━━━━━━━━━━\u001b[0m\u001b[37m\u001b[0m \u001b[1m5s\u001b[0m 3ms/step - loss: 142.5206 - mae: 4.0714 - mse: 142.5206 - val_loss: 115.4436 - val_mae: 3.2028 - val_mse: 115.4436\n",
      "Epoch 2/50\n",
      "\u001b[1m1141/1141\u001b[0m \u001b[32m━━━━━━━━━━━━━━━━━━━━\u001b[0m\u001b[37m\u001b[0m \u001b[1m4s\u001b[0m 3ms/step - loss: 115.5420 - mae: 3.2932 - mse: 115.5420 - val_loss: 99.6139 - val_mae: 3.1062 - val_mse: 99.6139\n",
      "Epoch 3/50\n",
      "\u001b[1m1141/1141\u001b[0m \u001b[32m━━━━━━━━━━━━━━━━━━━━\u001b[0m\u001b[37m\u001b[0m \u001b[1m4s\u001b[0m 3ms/step - loss: 92.9608 - mae: 3.1057 - mse: 92.9608 - val_loss: 88.6219 - val_mae: 2.7705 - val_mse: 88.6219\n",
      "Epoch 4/50\n",
      "\u001b[1m1141/1141\u001b[0m \u001b[32m━━━━━━━━━━━━━━━━━━━━\u001b[0m\u001b[37m\u001b[0m \u001b[1m4s\u001b[0m 3ms/step - loss: 85.6607 - mae: 3.1107 - mse: 85.6607 - val_loss: 87.0183 - val_mae: 3.3112 - val_mse: 87.0183\n",
      "Epoch 5/50\n",
      "\u001b[1m1141/1141\u001b[0m \u001b[32m━━━━━━━━━━━━━━━━━━━━\u001b[0m\u001b[37m\u001b[0m \u001b[1m4s\u001b[0m 3ms/step - loss: 78.4942 - mae: 3.0164 - mse: 78.4942 - val_loss: 80.9275 - val_mae: 2.7489 - val_mse: 80.9275\n",
      "Epoch 6/50\n",
      "\u001b[1m1141/1141\u001b[0m \u001b[32m━━━━━━━━━━━━━━━━━━━━\u001b[0m\u001b[37m\u001b[0m \u001b[1m4s\u001b[0m 3ms/step - loss: 85.3569 - mae: 3.0624 - mse: 85.3569 - val_loss: 77.1557 - val_mae: 2.8397 - val_mse: 77.1557\n",
      "Epoch 7/50\n",
      "\u001b[1m1141/1141\u001b[0m \u001b[32m━━━━━━━━━━━━━━━━━━━━\u001b[0m\u001b[37m\u001b[0m \u001b[1m4s\u001b[0m 3ms/step - loss: 73.8419 - mae: 2.8795 - mse: 73.8419 - val_loss: 73.0641 - val_mae: 2.5706 - val_mse: 73.0641\n",
      "Epoch 8/50\n",
      "\u001b[1m1141/1141\u001b[0m \u001b[32m━━━━━━━━━━━━━━━━━━━━\u001b[0m\u001b[37m\u001b[0m \u001b[1m4s\u001b[0m 3ms/step - loss: 68.1733 - mae: 2.7343 - mse: 68.1733 - val_loss: 69.8759 - val_mae: 2.5769 - val_mse: 69.8759\n",
      "Epoch 9/50\n",
      "\u001b[1m1141/1141\u001b[0m \u001b[32m━━━━━━━━━━━━━━━━━━━━\u001b[0m\u001b[37m\u001b[0m \u001b[1m4s\u001b[0m 3ms/step - loss: 65.1970 - mae: 2.6252 - mse: 65.1970 - val_loss: 68.7121 - val_mae: 2.4858 - val_mse: 68.7121\n",
      "Epoch 10/50\n",
      "\u001b[1m1141/1141\u001b[0m \u001b[32m━━━━━━━━━━━━━━━━━━━━\u001b[0m\u001b[37m\u001b[0m \u001b[1m4s\u001b[0m 4ms/step - loss: 64.1969 - mae: 2.6440 - mse: 64.1969 - val_loss: 66.7420 - val_mae: 2.4751 - val_mse: 66.7420\n",
      "Epoch 11/50\n",
      "\u001b[1m1141/1141\u001b[0m \u001b[32m━━━━━━━━━━━━━━━━━━━━\u001b[0m\u001b[37m\u001b[0m \u001b[1m3s\u001b[0m 3ms/step - loss: 65.9117 - mae: 2.6441 - mse: 65.9117 - val_loss: 66.4626 - val_mae: 2.7594 - val_mse: 66.4626\n",
      "Epoch 12/50\n",
      "\u001b[1m1141/1141\u001b[0m \u001b[32m━━━━━━━━━━━━━━━━━━━━\u001b[0m\u001b[37m\u001b[0m \u001b[1m4s\u001b[0m 3ms/step - loss: 66.0140 - mae: 2.6494 - mse: 66.0140 - val_loss: 65.3770 - val_mae: 3.1412 - val_mse: 65.3770\n",
      "Epoch 13/50\n",
      "\u001b[1m1141/1141\u001b[0m \u001b[32m━━━━━━━━━━━━━━━━━━━━\u001b[0m\u001b[37m\u001b[0m \u001b[1m4s\u001b[0m 3ms/step - loss: 62.1001 - mae: 2.5424 - mse: 62.1001 - val_loss: 61.2785 - val_mae: 2.7100 - val_mse: 61.2785\n",
      "Epoch 14/50\n",
      "\u001b[1m1141/1141\u001b[0m \u001b[32m━━━━━━━━━━━━━━━━━━━━\u001b[0m\u001b[37m\u001b[0m \u001b[1m4s\u001b[0m 3ms/step - loss: 63.4451 - mae: 2.5627 - mse: 63.4451 - val_loss: 61.5913 - val_mae: 2.4068 - val_mse: 61.5913\n",
      "Epoch 15/50\n",
      "\u001b[1m1141/1141\u001b[0m \u001b[32m━━━━━━━━━━━━━━━━━━━━\u001b[0m\u001b[37m\u001b[0m \u001b[1m4s\u001b[0m 4ms/step - loss: 66.4531 - mae: 2.5638 - mse: 66.4531 - val_loss: 58.1834 - val_mae: 2.3037 - val_mse: 58.1834\n",
      "Epoch 16/50\n",
      "\u001b[1m1141/1141\u001b[0m \u001b[32m━━━━━━━━━━━━━━━━━━━━\u001b[0m\u001b[37m\u001b[0m \u001b[1m4s\u001b[0m 3ms/step - loss: 55.4029 - mae: 2.4619 - mse: 55.4029 - val_loss: 58.5478 - val_mae: 2.2675 - val_mse: 58.5478\n",
      "Epoch 17/50\n",
      "\u001b[1m1141/1141\u001b[0m \u001b[32m━━━━━━━━━━━━━━━━━━━━\u001b[0m\u001b[37m\u001b[0m \u001b[1m4s\u001b[0m 3ms/step - loss: 64.6650 - mae: 2.6008 - mse: 64.6650 - val_loss: 60.5142 - val_mae: 2.3430 - val_mse: 60.5142\n",
      "Epoch 18/50\n",
      "\u001b[1m1141/1141\u001b[0m \u001b[32m━━━━━━━━━━━━━━━━━━━━\u001b[0m\u001b[37m\u001b[0m \u001b[1m4s\u001b[0m 3ms/step - loss: 56.5969 - mae: 2.4731 - mse: 56.5969 - val_loss: 55.6410 - val_mae: 2.2580 - val_mse: 55.6410\n",
      "Epoch 19/50\n",
      "\u001b[1m1141/1141\u001b[0m \u001b[32m━━━━━━━━━━━━━━━━━━━━\u001b[0m\u001b[37m\u001b[0m \u001b[1m4s\u001b[0m 3ms/step - loss: 60.2927 - mae: 2.4713 - mse: 60.2927 - val_loss: 57.5033 - val_mae: 2.3066 - val_mse: 57.5033\n",
      "Epoch 20/50\n",
      "\u001b[1m1141/1141\u001b[0m \u001b[32m━━━━━━━━━━━━━━━━━━━━\u001b[0m\u001b[37m\u001b[0m \u001b[1m4s\u001b[0m 3ms/step - loss: 52.0737 - mae: 2.3617 - mse: 52.0737 - val_loss: 56.1637 - val_mae: 2.2630 - val_mse: 56.1637\n",
      "Epoch 21/50\n",
      "\u001b[1m1141/1141\u001b[0m \u001b[32m━━━━━━━━━━━━━━━━━━━━\u001b[0m\u001b[37m\u001b[0m \u001b[1m4s\u001b[0m 3ms/step - loss: 54.4902 - mae: 2.4047 - mse: 54.4902 - val_loss: 55.8194 - val_mae: 2.2133 - val_mse: 55.8194\n",
      "Epoch 22/50\n",
      "\u001b[1m1141/1141\u001b[0m \u001b[32m━━━━━━━━━━━━━━━━━━━━\u001b[0m\u001b[37m\u001b[0m \u001b[1m4s\u001b[0m 4ms/step - loss: 52.1545 - mae: 2.3431 - mse: 52.1545 - val_loss: 58.9938 - val_mae: 2.2727 - val_mse: 58.9938\n",
      "Epoch 23/50\n",
      "\u001b[1m1141/1141\u001b[0m \u001b[32m━━━━━━━━━━━━━━━━━━━━\u001b[0m\u001b[37m\u001b[0m \u001b[1m4s\u001b[0m 4ms/step - loss: 56.3037 - mae: 2.4248 - mse: 56.3037 - val_loss: 58.4044 - val_mae: 2.4535 - val_mse: 58.4044\n",
      "Epoch 24/50\n",
      "\u001b[1m1141/1141\u001b[0m \u001b[32m━━━━━━━━━━━━━━━━━━━━\u001b[0m\u001b[37m\u001b[0m \u001b[1m4s\u001b[0m 4ms/step - loss: 59.2766 - mae: 2.4906 - mse: 59.2766 - val_loss: 60.4873 - val_mae: 2.6323 - val_mse: 60.4873\n",
      "Epoch 25/50\n",
      "\u001b[1m1141/1141\u001b[0m \u001b[32m━━━━━━━━━━━━━━━━━━━━\u001b[0m\u001b[37m\u001b[0m \u001b[1m4s\u001b[0m 3ms/step - loss: 50.1535 - mae: 2.3311 - mse: 50.1535 - val_loss: 54.0362 - val_mae: 2.4568 - val_mse: 54.0362\n",
      "Epoch 26/50\n",
      "\u001b[1m1141/1141\u001b[0m \u001b[32m━━━━━━━━━━━━━━━━━━━━\u001b[0m\u001b[37m\u001b[0m \u001b[1m4s\u001b[0m 3ms/step - loss: 53.1196 - mae: 2.3556 - mse: 53.1196 - val_loss: 51.8629 - val_mae: 2.2112 - val_mse: 51.8629\n",
      "Epoch 27/50\n",
      "\u001b[1m1141/1141\u001b[0m \u001b[32m━━━━━━━━━━━━━━━━━━━━\u001b[0m\u001b[37m\u001b[0m \u001b[1m4s\u001b[0m 3ms/step - loss: 52.6065 - mae: 2.3213 - mse: 52.6065 - val_loss: 53.0207 - val_mae: 2.4873 - val_mse: 53.0207\n",
      "Epoch 28/50\n",
      "\u001b[1m1141/1141\u001b[0m \u001b[32m━━━━━━━━━━━━━━━━━━━━\u001b[0m\u001b[37m\u001b[0m \u001b[1m4s\u001b[0m 3ms/step - loss: 49.8980 - mae: 2.3340 - mse: 49.8980 - val_loss: 52.7808 - val_mae: 2.1703 - val_mse: 52.7808\n",
      "Epoch 29/50\n",
      "\u001b[1m1141/1141\u001b[0m \u001b[32m━━━━━━━━━━━━━━━━━━━━\u001b[0m\u001b[37m\u001b[0m \u001b[1m4s\u001b[0m 4ms/step - loss: 56.0280 - mae: 2.4014 - mse: 56.0280 - val_loss: 50.8423 - val_mae: 2.1603 - val_mse: 50.8423\n",
      "Epoch 30/50\n",
      "\u001b[1m1141/1141\u001b[0m \u001b[32m━━━━━━━━━━━━━━━━━━━━\u001b[0m\u001b[37m\u001b[0m \u001b[1m4s\u001b[0m 4ms/step - loss: 56.0315 - mae: 2.3842 - mse: 56.0315 - val_loss: 51.6271 - val_mae: 2.1330 - val_mse: 51.6271\n",
      "Epoch 31/50\n",
      "\u001b[1m1141/1141\u001b[0m \u001b[32m━━━━━━━━━━━━━━━━━━━━\u001b[0m\u001b[37m\u001b[0m \u001b[1m4s\u001b[0m 4ms/step - loss: 57.7947 - mae: 2.4545 - mse: 57.7947 - val_loss: 50.7842 - val_mae: 2.3407 - val_mse: 50.7842\n",
      "Epoch 32/50\n",
      "\u001b[1m1141/1141\u001b[0m \u001b[32m━━━━━━━━━━━━━━━━━━━━\u001b[0m\u001b[37m\u001b[0m \u001b[1m3s\u001b[0m 3ms/step - loss: 51.2115 - mae: 2.2890 - mse: 51.2115 - val_loss: 52.8806 - val_mae: 2.2543 - val_mse: 52.8806\n",
      "Epoch 33/50\n",
      "\u001b[1m1141/1141\u001b[0m \u001b[32m━━━━━━━━━━━━━━━━━━━━\u001b[0m\u001b[37m\u001b[0m \u001b[1m4s\u001b[0m 3ms/step - loss: 48.2393 - mae: 2.2936 - mse: 48.2393 - val_loss: 51.5543 - val_mae: 2.3104 - val_mse: 51.5543\n",
      "Epoch 34/50\n",
      "\u001b[1m1141/1141\u001b[0m \u001b[32m━━━━━━━━━━━━━━━━━━━━\u001b[0m\u001b[37m\u001b[0m \u001b[1m4s\u001b[0m 3ms/step - loss: 48.8023 - mae: 2.3235 - mse: 48.8023 - val_loss: 49.8750 - val_mae: 2.1998 - val_mse: 49.8750\n",
      "Epoch 35/50\n",
      "\u001b[1m1141/1141\u001b[0m \u001b[32m━━━━━━━━━━━━━━━━━━━━\u001b[0m\u001b[37m\u001b[0m \u001b[1m4s\u001b[0m 3ms/step - loss: 50.5764 - mae: 2.2914 - mse: 50.5764 - val_loss: 51.7363 - val_mae: 2.1854 - val_mse: 51.7363\n",
      "Epoch 36/50\n",
      "\u001b[1m1141/1141\u001b[0m \u001b[32m━━━━━━━━━━━━━━━━━━━━\u001b[0m\u001b[37m\u001b[0m \u001b[1m4s\u001b[0m 3ms/step - loss: 47.8828 - mae: 2.3277 - mse: 47.8828 - val_loss: 49.9651 - val_mae: 2.2589 - val_mse: 49.9651\n",
      "Epoch 37/50\n",
      "\u001b[1m1141/1141\u001b[0m \u001b[32m━━━━━━━━━━━━━━━━━━━━\u001b[0m\u001b[37m\u001b[0m \u001b[1m4s\u001b[0m 3ms/step - loss: 51.9101 - mae: 2.3033 - mse: 51.9101 - val_loss: 49.3846 - val_mae: 2.2068 - val_mse: 49.3846\n",
      "Epoch 38/50\n",
      "\u001b[1m1141/1141\u001b[0m \u001b[32m━━━━━━━━━━━━━━━━━━━━\u001b[0m\u001b[37m\u001b[0m \u001b[1m4s\u001b[0m 3ms/step - loss: 51.1131 - mae: 2.3275 - mse: 51.1131 - val_loss: 52.4243 - val_mae: 2.1621 - val_mse: 52.4243\n",
      "Epoch 39/50\n",
      "\u001b[1m1141/1141\u001b[0m \u001b[32m━━━━━━━━━━━━━━━━━━━━\u001b[0m\u001b[37m\u001b[0m \u001b[1m4s\u001b[0m 3ms/step - loss: 47.2724 - mae: 2.2505 - mse: 47.2724 - val_loss: 50.1057 - val_mae: 2.2806 - val_mse: 50.1057\n",
      "Epoch 40/50\n",
      "\u001b[1m1141/1141\u001b[0m \u001b[32m━━━━━━━━━━━━━━━━━━━━\u001b[0m\u001b[37m\u001b[0m \u001b[1m3s\u001b[0m 3ms/step - loss: 46.5962 - mae: 2.2421 - mse: 46.5962 - val_loss: 50.0144 - val_mae: 2.1843 - val_mse: 50.0144\n",
      "Epoch 41/50\n",
      "\u001b[1m1141/1141\u001b[0m \u001b[32m━━━━━━━━━━━━━━━━━━━━\u001b[0m\u001b[37m\u001b[0m \u001b[1m4s\u001b[0m 4ms/step - loss: 49.5158 - mae: 2.3553 - mse: 49.5158 - val_loss: 49.4795 - val_mae: 2.1265 - val_mse: 49.4795\n",
      "Epoch 42/50\n",
      "\u001b[1m1141/1141\u001b[0m \u001b[32m━━━━━━━━━━━━━━━━━━━━\u001b[0m\u001b[37m\u001b[0m \u001b[1m4s\u001b[0m 3ms/step - loss: 49.0559 - mae: 2.3493 - mse: 49.0559 - val_loss: 50.2842 - val_mae: 2.1939 - val_mse: 50.2842\n",
      "Epoch 43/50\n",
      "\u001b[1m1141/1141\u001b[0m \u001b[32m━━━━━━━━━━━━━━━━━━━━\u001b[0m\u001b[37m\u001b[0m \u001b[1m4s\u001b[0m 3ms/step - loss: 51.7767 - mae: 2.3256 - mse: 51.7767 - val_loss: 53.2060 - val_mae: 2.3218 - val_mse: 53.2060\n",
      "Epoch 44/50\n",
      "\u001b[1m1141/1141\u001b[0m \u001b[32m━━━━━━━━━━━━━━━━━━━━\u001b[0m\u001b[37m\u001b[0m \u001b[1m4s\u001b[0m 4ms/step - loss: 54.0192 - mae: 2.3347 - mse: 54.0192 - val_loss: 50.1151 - val_mae: 2.5131 - val_mse: 50.1151\n",
      "Epoch 45/50\n",
      "\u001b[1m1141/1141\u001b[0m \u001b[32m━━━━━━━━━━━━━━━━━━━━\u001b[0m\u001b[37m\u001b[0m \u001b[1m4s\u001b[0m 3ms/step - loss: 46.0620 - mae: 2.2233 - mse: 46.0620 - val_loss: 49.1045 - val_mae: 2.2776 - val_mse: 49.1045\n",
      "Epoch 46/50\n",
      "\u001b[1m1141/1141\u001b[0m \u001b[32m━━━━━━━━━━━━━━━━━━━━\u001b[0m\u001b[37m\u001b[0m \u001b[1m4s\u001b[0m 3ms/step - loss: 48.3532 - mae: 2.2532 - mse: 48.3532 - val_loss: 56.0527 - val_mae: 2.2492 - val_mse: 56.0527\n",
      "Epoch 47/50\n",
      "\u001b[1m1141/1141\u001b[0m \u001b[32m━━━━━━━━━━━━━━━━━━━━\u001b[0m\u001b[37m\u001b[0m \u001b[1m3s\u001b[0m 3ms/step - loss: 52.4993 - mae: 2.3014 - mse: 52.4993 - val_loss: 48.0073 - val_mae: 2.2000 - val_mse: 48.0073\n",
      "Epoch 48/50\n",
      "\u001b[1m1141/1141\u001b[0m \u001b[32m━━━━━━━━━━━━━━━━━━━━\u001b[0m\u001b[37m\u001b[0m \u001b[1m4s\u001b[0m 3ms/step - loss: 50.1519 - mae: 2.2621 - mse: 50.1519 - val_loss: 48.4898 - val_mae: 2.2157 - val_mse: 48.4898\n",
      "Epoch 49/50\n",
      "\u001b[1m1141/1141\u001b[0m \u001b[32m━━━━━━━━━━━━━━━━━━━━\u001b[0m\u001b[37m\u001b[0m \u001b[1m4s\u001b[0m 3ms/step - loss: 49.7988 - mae: 2.2683 - mse: 49.7988 - val_loss: 46.6138 - val_mae: 2.0937 - val_mse: 46.6138\n",
      "Epoch 50/50\n",
      "\u001b[1m1141/1141\u001b[0m \u001b[32m━━━━━━━━━━━━━━━━━━━━\u001b[0m\u001b[37m\u001b[0m \u001b[1m3s\u001b[0m 3ms/step - loss: 51.2210 - mae: 2.2918 - mse: 51.2210 - val_loss: 47.3877 - val_mae: 2.1950 - val_mse: 47.3877\n"
     ]
    }
   ],
   "source": [
    "historial = modelo.fit(\n",
    "    X_train, y_train,\n",
    "    validation_data=(X_test, y_test),\n",
    "    epochs=50,\n",
    "    batch_size=32,\n",
    "    verbose=1\n",
    ")"
   ]
  },
  {
   "cell_type": "code",
   "execution_count": 19,
   "id": "9c4653c7",
   "metadata": {},
   "outputs": [
    {
     "name": "stdout",
     "output_type": "stream",
     "text": [
      "\u001b[1m286/286\u001b[0m \u001b[32m━━━━━━━━━━━━━━━━━━━━\u001b[0m\u001b[37m\u001b[0m \u001b[1m1s\u001b[0m 3ms/step - loss: 49.3222 - mae: 2.2034 - mse: 49.3222\n",
      "\u001b[1m286/286\u001b[0m \u001b[32m━━━━━━━━━━━━━━━━━━━━\u001b[0m\u001b[37m\u001b[0m \u001b[1m1s\u001b[0m 2ms/step\n",
      "MSE: 47.38771057128906\n",
      "MAE: 2.1949925422668457\n",
      "R2: 0.6162682834209657\n"
     ]
    }
   ],
   "source": [
    "loss, mse, mae = modelo.evaluate(X_test, y_test)\n",
    "y_pred = modelo.predict(X_test)\n",
    "print(f\"MSE: {mse}\\nMAE: {mae}\\nR2: {r2_score(y_test,y_pred)}\")"
   ]
  },
  {
   "cell_type": "markdown",
   "id": "a7263118",
   "metadata": {},
   "source": [
    "Finalmente, se grafican los resultados"
   ]
  },
  {
   "cell_type": "code",
   "execution_count": 20,
   "id": "035feb3c",
   "metadata": {},
   "outputs": [
    {
     "data": {
      "image/png": "[encoded data removed]",
      "text/plain": [
       "<Figure size 1000x600 with 1 Axes>"
      ]
     },
     "metadata": {},
     "output_type": "display_data"
    }
   ],
   "source": [
    "plt.figure(figsize=(10,6))\n",
    "plt.plot(historial.history['loss'], label='Entrenamiento')\n",
    "plt.plot(historial.history['val_loss'], label='Validación')\n",
    "plt.xlabel('Épocas')\n",
    "plt.ylabel('Loss (MSE)')\n",
    "plt.legend()\n",
    "plt.title('Curva de entrenamiento')\n",
    "plt.grid(linestyle=\"--\",alpha = 0.5)\n",
    "plt.show()"
   ]
  },
  {
   "cell_type": "code",
   "execution_count": 25,
   "id": "5d438552",
   "metadata": {},
   "outputs": [],
   "source": [
    "json_string = modelo.to_json()\n",
    "with open(\"modelo.json\", \"w\") as json_file:\n",
    "    json_file.write(json_string)\n"
   ]
  }
 ],
 "metadata": {
  "kernelspec": {
   "display_name": "Redes_Neuronales",
   "language": "python",
   "name": "python3"
  },
  "language_info": {
   "codemirror_mode": {
    "name": "ipython",
    "version": 3
   },
   "file_extension": ".py",
   "mimetype": "text/x-python",
   "name": "python",
   "nbconvert_exporter": "python",
   "pygments_lexer": "ipython3",
   "version": "3.10.16"
  }
 },
 "nbformat": 4,
 "nbformat_minor": 5
}
